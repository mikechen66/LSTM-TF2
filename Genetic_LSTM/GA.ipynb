{
 "cells": [
  {
   "cell_type": "markdown",
   "metadata": {
    "colab_type": "text",
    "id": "fueldRiuUjFo"
   },
   "source": [
    "# Genetic Algorithm\n",
    "Genetic Algorithm example \n",
    "Copyright Denis Rothman, MIT LICENSE"
   ]
  },
  {
   "cell_type": "markdown",
   "metadata": {
    "colab_type": "text",
    "id": "a80oniaMUoS0"
   },
   "source": [
    "### Importing libraries"
   ]
  },
  {
   "cell_type": "code",
   "execution_count": 0,
   "metadata": {
    "colab": {},
    "colab_type": "code",
    "id": "W2GS8dPFUtIl"
   },
   "outputs": [],
   "source": [
    "import math\n",
    "import random\n",
    "import datetime"
   ]
  },
  {
   "cell_type": "markdown",
   "metadata": {
    "colab_type": "text",
    "id": "EhK0hpWIUybF"
   },
   "source": [
    "### Generating a Parent"
   ]
  },
  {
   "cell_type": "code",
   "execution_count": 0,
   "metadata": {
    "colab": {},
    "colab_type": "code",
    "id": "xhD6YQNLU86W"
   },
   "outputs": [],
   "source": [
    "def gen_parent(length):\n",
    "  genes=[]                        #genes array\n",
    "  while len(genes)<length:        #genes is constrained to the length\n",
    "      #sampleSize: length of target constraint \n",
    "      sampleSize=min(length-len(genes),len(geneSet))\n",
    "      #extend genes with a random sample the size of sampleSize extracted from geneSet\n",
    "      genes.extend(random.sample(geneSet,sampleSize))\n",
    "  return ''.join(genes)"
   ]
  },
  {
   "cell_type": "markdown",
   "metadata": {
    "colab_type": "text",
    "id": "vZJRxFm2kfMW"
   },
   "source": [
    "## Fitness"
   ]
  },
  {
   "cell_type": "code",
   "execution_count": 0,
   "metadata": {
    "colab": {},
    "colab_type": "code",
    "id": "cqww729IklV1"
   },
   "outputs": [],
   "source": [
    "#Fitness function\n",
    "def get_fitness(this_choice,scenario):\n",
    "  if(scenario==1):\n",
    "    fitness=sum(1 for expected,actual in zip(target,this_choice) if expected==actual)\n",
    "  if(scenario==0):\n",
    "    cc=list(this_choice) # cc= this choice\n",
    "    gs=list(geneSet)     # gene set\n",
    "    cv=list(KPIset)      # value of each KPI in the set\n",
    "    fitness=0\n",
    "    for op1 in range(0,len(geneSet)): #2.first find parent gene in gene set\n",
    "      for op in range(0,len(target)):\n",
    "        if cc[op]==gs[op1]:             #3.gene identified in gene set\n",
    "          vc=int(cv[op1])               #4.value of critical path constraint\n",
    "          fitness+=vc\n",
    "      for op in range(0,len(target)):\n",
    "        for op1 in range(0,len(target)):\n",
    "          if op!=op1 and cc[op]==cc[op1]:\n",
    "            fitness=0                     # no repetitions allowed, mutation enforcement\n",
    "  return fitness"
   ]
  },
  {
   "cell_type": "markdown",
   "metadata": {
    "colab_type": "text",
    "id": "aK1l2EL7lmc7"
   },
   "source": [
    "###  Crossover and Mutate "
   ]
  },
  {
   "cell_type": "code",
   "execution_count": 0,
   "metadata": {
    "colab": {},
    "colab_type": "code",
    "id": "0zYNgtfgldyV"
   },
   "outputs": [],
   "source": [
    "def crossover(parent):\n",
    "      index=random.randrange(0,len(parent))#producing a random position of the parent gene\n",
    "      childGenes=list(parent)\n",
    "      oldGene=childGenes[index]        # for diversity check\n",
    "      newGene,alternate=random.sample(geneSet,2)\n",
    "      if(newGene!=oldGene):childGenes[index]=newGene;            #natural crossover\n",
    "      if(newGene==oldGene):childGenes[index]=alternate;          #mutation introduced to ensure diversity to avoid to get stuck in a local minima\n",
    "      return ''.join(childGenes)"
   ]
  },
  {
   "cell_type": "markdown",
   "metadata": {
    "colab_type": "text",
    "id": "DSHnT9tKls0s"
   },
   "source": [
    "### Display Selection"
   ]
  },
  {
   "cell_type": "code",
   "execution_count": 0,
   "metadata": {
    "colab": {},
    "colab_type": "code",
    "id": "hb7VduXFlvIE"
   },
   "outputs": [],
   "source": [
    "#Display selection\n",
    "def display(selection,bestFitness,childFitness,startTime):\n",
    "      timeDiff=datetime.datetime.now()-startTime\n",
    "      #when the first generation parent is displayed childFitness=bestFitness=parent Fitness \n",
    "      print(\"Selection:\",selection,\"Fittest:\",bestFitness,\"This generation Fitness:\",childFitness,\"Time Difference:\",timeDiff)"
   ]
  },
  {
   "cell_type": "markdown",
   "metadata": {
    "colab_type": "text",
    "id": "akxjMjkplwKk"
   },
   "source": [
    "### Main"
   ]
  },
  {
   "cell_type": "code",
   "execution_count": 0,
   "metadata": {
    "colab": {},
    "colab_type": "code",
    "id": "50Ec07Z0TxGp"
   },
   "outputs": [],
   "source": [
    "def ga_main():\n",
    "#I PARENT GENERATION\n",
    "       startTime=datetime.datetime.now() \n",
    "       print(\"starttime\",startTime)\n",
    "       alphaParent=gen_parent(len(target))\n",
    "       bestFitness=get_fitness(alphaParent,scenario)\n",
    "       display(alphaParent,bestFitness,bestFitness,startTime) \n",
    "#II. SUBSEQUENT GENERATIONS\n",
    "       #producing the next generations\n",
    "       g=0\n",
    "       bestParent=alphaParent              # at the beginning, the first parent, best or not is our best available choice\n",
    "       while True:\n",
    "        g+=1\n",
    "        child=crossover(bestParent)        #mutation\n",
    "        childFitness=get_fitness(child,scenario) #number of correct genes\n",
    "        if bestFitness>=childFitness:   #\n",
    "                   continue\n",
    "        display(child,bestFitness,childFitness,startTime)\n",
    "        bestFitness=childFitness\n",
    "        bestParent=child\n",
    "        if scenario==1: goal=len(alphaParent);#number of good genes=parent length\n",
    "        if scenario==0: goal=threshold;\n",
    "        if childFitness>=goal:\n",
    "                   break\n",
    "\n",
    "#III. SUMMARY\n",
    "       print(\"Summary---------------------------------------------------\")\n",
    "       endTime=datetime.datetime.now()\n",
    "       print(\"endtime\",endTime)\n",
    "       print(\"geneSet:\",geneSet);print(\"target:\",target)\n",
    "       print(\"geneSet length:\",len(geneSet))\n",
    "       print(\"target length:\",len(target))\n",
    "       print(\"generations:\",g)\n",
    "       print(\"Note: the process is stochastic so the number of generations will vary\")\n",
    "   "
   ]
  },
  {
   "cell_type": "markdown",
   "metadata": {
    "colab_type": "text",
    "id": "6hnC-zxsl-1N"
   },
   "source": [
    "### Calling the Algorithm"
   ]
  },
  {
   "cell_type": "code",
   "execution_count": 0,
   "metadata": {
    "colab": {
     "base_uri": "https://localhost:8080/",
     "height": 357
    },
    "colab_type": "code",
    "id": "wfZ3Afb0l5-L",
    "outputId": "7ec1a34e-eb9e-4acc-a366-efd88fb7ad4c"
   },
   "outputs": [
    {
     "name": "stdout",
     "output_type": "stream",
     "text": [
      "Genetic Algorithm\n",
      "geneSet: abcdefghijklmnopqrstuvwxyzABCDEFGHIJKLMNOPQRSTUVWXYZ!.- \n",
      " target: AAAA\n",
      "starttime 2019-10-13 09:08:21.043754\n",
      "Selection: PNVx Fittest: 18 This generation Fitness: 18 Time Difference: 0:00:00.001252\n",
      "Selection: LNVx Fittest: 18 This generation Fitness: 24 Time Difference: 0:00:00.004130\n",
      "Selection: LNVq Fittest: 24 This generation Fitness: 27 Time Difference: 0:00:00.004708\n",
      "Selection: LNFq Fittest: 27 This generation Fitness: 29 Time Difference: 0:00:00.010362\n",
      "Selection: LBFq Fittest: 29 This generation Fitness: 31 Time Difference: 0:00:00.015797\n",
      "Selection: CBFq Fittest: 31 This generation Fitness: 33 Time Difference: 0:00:00.024712\n",
      "Selection: CBFt Fittest: 33 This generation Fitness: 34 Time Difference: 0:00:00.032680\n",
      "Selection: CBFD Fittest: 34 This generation Fitness: 35 Time Difference: 0:00:00.048524\n",
      "Summary---------------------------------------------------\n",
      "endtime 2019-10-13 09:08:21.094005\n",
      "geneSet: abcdefghijklmnopqrstuvwxyzABCDEFGHIJKLMNOPQRSTUVWXYZ!.-\n",
      "target: AAAA\n",
      "geneSet length: 55\n",
      "target length: 4\n",
      "generations: 154\n",
      "Note: the process is stochastic so the number of generations will vary\n"
     ]
    }
   ],
   "source": [
    "print(\"Genetic Algorithm\")\n",
    "\n",
    "scenario=0   # 1=target provided at start, 0=no target, genetic optimizer\n",
    "GA=2\n",
    "\n",
    "#geneSet for all scenarios, other sets for GA==2\n",
    "geneSet=\"abcdefghijklmnopqrstuvwxyzABCDEFGHIJKLMNOPQRSTUVWXYZ!.-\"   #gene set\n",
    "KPIset =\"0123456772012345674701234569980923456767012345671001234\"   #KPI set\n",
    "threshold=35\n",
    "\n",
    "#Target 01 with predefined target sequence\n",
    "#set of genes\n",
    "if(GA==1):\n",
    "  geneSet=\"abcdefghijklmnopqrstuvwxyzABCDEFGHIJKLMNOPQRSTUVWXYZ!.-\"\n",
    "  # target with no space unless specified as a character in the geneSet\n",
    "  target=\"Algorithm\"  # No space unless specified as a character in the geneSet\n",
    "  print(\"geneSet:\",geneSet,\"\\n\",\"target:\",target)\n",
    "  ga_main()\n",
    "\n",
    "#Target 02 with optimizing values, no target sequence but a KPI to attain\n",
    "#A coded algorithm sequence: each letter represents a start state for an MDP OR SCM Process: production, services, deliveries or other\n",
    " \n",
    "if(scenario==0 and GA==2):\n",
    "  target=\"AAAA\"                                                   #unspecified target\n",
    "  print(\"geneSet:\",geneSet,\"\\n\",\"target:\",target)\n",
    "  ga_main()\n",
    "\n",
    "if(scenario==1 and GA==3):\n",
    "  target=\"FBDC\"  # No space unless specified as a character in the geneSet\n",
    "  print(\"geneSet:\",geneSet,\"\\n\",\"target:\",target)\n",
    "  ga_main()\n"
   ]
  }
 ],
 "metadata": {
  "accelerator": "GPU",
  "colab": {
   "collapsed_sections": [],
   "name": "GA.ipynb",
   "provenance": []
  },
  "kernelspec": {
   "display_name": "Python 3",
   "language": "python",
   "name": "python3"
  },
  "language_info": {
   "codemirror_mode": {
    "name": "ipython",
    "version": 3
   },
   "file_extension": ".py",
   "mimetype": "text/x-python",
   "name": "python",
   "nbconvert_exporter": "python",
   "pygments_lexer": "ipython3",
   "version": "3.7.7"
  }
 },
 "nbformat": 4,
 "nbformat_minor": 1
}
