{
 "cells": [
  {
   "cell_type": "code",
   "execution_count": 1,
   "metadata": {
    "ExecuteTime": {
     "end_time": "2020-09-07T08:17:39.305006Z",
     "start_time": "2020-09-07T08:17:36.616053Z"
    }
   },
   "outputs": [],
   "source": [
    "import numpy as np\n",
    "import pandas as pd\n",
    "import glob\n",
    "import re\n",
    "\n",
    "import tensorflow as tf\n",
    "from tensorflow.keras.preprocessing import sequence\n",
    "from tensorflow.keras.layers import Embedding, LSTM, \\\n",
    "                                    Bidirectional, Dense,\\\n",
    "                                    Dropout\n",
    "import tensorflow_datasets as tfds\n",
    "\n",
    "from bs4 import BeautifulSoup\n",
    "\n",
    "\n",
    "tf.keras.backend.clear_session() #- for easy reset of notebook state\n",
    "\n",
    "# chck if GPU can be seen by TF\n",
    "tf.config.list_physical_devices('GPU')\n",
    "#tf.debugging.set_log_device_placement(True)\n",
    "gpus = tf.config.experimental.list_physical_devices('GPU')\n",
    "if gpus:\n",
    "  # Restrict TensorFlow to only use the first GPU\n",
    "  try:\n",
    "    tf.config.experimental.set_memory_growth(gpus[0], True)\n",
    "    tf.config.experimental.set_visible_devices(gpus[0], 'GPU')\n",
    "    logical_gpus = tf.config.experimental.list_logical_devices('GPU')\n",
    "    print(len(gpus), \"Physical GPUs,\", len(logical_gpus), \"Logical GPU\")\n",
    "  except RuntimeError as e:\n",
    "    # Visible devices must be set before GPUs have been initialized\n",
    "    print(e)\n",
    "###############################################"
   ]
  },
  {
   "cell_type": "markdown",
   "metadata": {},
   "source": [
    "# Training Data Vectorization"
   ]
  },
  {
   "cell_type": "code",
   "execution_count": 2,
   "metadata": {
    "ExecuteTime": {
     "end_time": "2020-09-07T08:17:41.008627Z",
     "start_time": "2020-09-07T08:17:39.307166Z"
    }
   },
   "outputs": [],
   "source": [
    "def load_reviews(path, columns=[\"filename\", 'review']):\n",
    "    assert len(columns) == 2\n",
    "    l = list()\n",
    "    for filename in glob.glob(path):\n",
    "        # print(filename)\n",
    "        with open(filename, 'r') as f:\n",
    "            review = f.read()\n",
    "            l.append((filename, review))\n",
    "    return pd.DataFrame(l, columns=columns)\n",
    "\n",
    "#unsup_df = load_reviews(\"./aclImdb/train/unsup/*.txt\")\n",
    "\n",
    "def load_labelled_data(path, neg='/neg/',\n",
    "                       pos='/pos/', shuffle=True):\n",
    "    neg_df = load_reviews(path + neg + \"*.txt\")\n",
    "    pos_df = load_reviews(path + pos + \"*.txt\")\n",
    "    neg_df['sentiment'] = 0\n",
    "    pos_df['sentiment'] = 1\n",
    "    df = pd.concat([neg_df, pos_df], axis=0)\n",
    "    if shuffle:\n",
    "        df = df.sample(frac=1, random_state=42)\n",
    "    return df\n",
    "\n",
    "train_df = load_labelled_data(\"./aclImdb/train/\")\n",
    "\n",
    "def fn_to_score(f):\n",
    "    scr = f.split(\"/\")[-1]  # get file name\n",
    "    scr = scr.split(\".\")[0] # remove extension\n",
    "    scr = int(scr.split(\"_\")[-1]) #the score\n",
    "    return scr\n",
    "\n",
    "train_df['score'] = train_df.filename.apply(fn_to_score)\n",
    "train_df.head()\n",
    "\n",
    "test_df = load_labelled_data(\"./aclImdb/test/\")\n",
    "\n",
    "# load encoder\n",
    "imdb_encoder = tfds.features.text.SubwordTextEncoder.\\\n",
    "                load_from_file(\"imdb\")"
   ]
  },
  {
   "cell_type": "code",
   "execution_count": 3,
   "metadata": {
    "ExecuteTime": {
     "end_time": "2020-09-07T08:17:41.404939Z",
     "start_time": "2020-09-07T08:17:41.010591Z"
    }
   },
   "outputs": [],
   "source": [
    "# we need a sample of 2000 reviews for training\n",
    "num_recs = 2000\n",
    "\n",
    "train_small = pd.read_pickle(\"train_2k.df\")\n",
    "# we dont need the snorkel column\n",
    "train_small = train_small.drop(columns=['snorkel'])\n",
    "\n",
    "# remove markup\n",
    "cleaned_reviews = train_small.review.apply(lambda x: BeautifulSoup(x).text)\n",
    "# convert pandas DF in to tf.Dataset\n",
    "train = tf.data.Dataset.from_tensor_slices((cleaned_reviews.values,\n",
    "                                            train_small.sentiment.values))"
   ]
  },
  {
   "cell_type": "code",
   "execution_count": 4,
   "metadata": {
    "ExecuteTime": {
     "end_time": "2020-09-07T08:17:41.501094Z",
     "start_time": "2020-09-07T08:17:41.406736Z"
    }
   },
   "outputs": [],
   "source": [
    "# transformation functions to be used with the dataset\n",
    "\n",
    "def encode_pad_transform(sample):\n",
    "    encoded = imdb_encoder.encode(sample.numpy())\n",
    "    pad = sequence.pad_sequences([encoded], padding='post',\n",
    "                                 maxlen=150)\n",
    "    return np.array(pad[0], dtype=np.int64)\n",
    "\n",
    "\n",
    "def encode_tf_fn(sample, label):\n",
    "    encoded = tf.py_function(encode_pad_transform,\n",
    "                                       inp=[sample],\n",
    "                                       Tout=(tf.int64))\n",
    "    encoded.set_shape([None])\n",
    "    label.set_shape([])\n",
    "    return encoded, label\n",
    "\n",
    "encoded_train = train.map(encode_tf_fn,\n",
    "                        num_parallel_calls=tf.data.experimental.AUTOTUNE)"
   ]
  },
  {
   "cell_type": "markdown",
   "metadata": {},
   "source": [
    "# Test Data Vectorization"
   ]
  },
  {
   "cell_type": "code",
   "execution_count": 5,
   "metadata": {
    "ExecuteTime": {
     "end_time": "2020-09-07T08:17:46.109341Z",
     "start_time": "2020-09-07T08:17:41.502948Z"
    }
   },
   "outputs": [],
   "source": [
    "# remove markup\n",
    "cleaned_test_reviews = test_df.review.apply(lambda x: BeautifulSoup(x).text)\n",
    "# convert pandas DF in to tf.Dataset\n",
    "test = tf.data.Dataset.from_tensor_slices((cleaned_test_reviews.values,\n",
    "                                            test_df.sentiment.values))\n",
    "encoded_test = test.map(encode_tf_fn,\n",
    "                        num_parallel_calls=tf.data.experimental.AUTOTUNE)"
   ]
  },
  {
   "cell_type": "markdown",
   "metadata": {},
   "source": [
    "# Baseline Model"
   ]
  },
  {
   "cell_type": "code",
   "execution_count": 16,
   "metadata": {
    "ExecuteTime": {
     "end_time": "2020-09-07T08:17:46.117371Z",
     "start_time": "2020-09-07T08:17:46.110975Z"
    }
   },
   "outputs": [],
   "source": [
    "# Length of the vocabulary\n",
    "vocab_size = imdb_encoder.vocab_size\n",
    "\n",
    "# Number of RNN units\n",
    "rnn_units = 64\n",
    "\n",
    "# Embedding size\n",
    "embedding_dim = 64\n",
    "\n",
    "#batch size\n",
    "BATCH_SIZE=100\n",
    "\n",
    "dropout=0.5\n",
    "\n",
    "def build_model_bilstm(vocab_size, embedding_dim, rnn_units, batch_size, dropout=0.):\n",
    "    model = tf.keras.Sequential([\n",
    "        Embedding(vocab_size, embedding_dim, mask_zero=True,\n",
    "                                  batch_input_shape=[batch_size, None]),\n",
    "        Bidirectional(LSTM(rnn_units, return_sequences=True)),\n",
    "        Bidirectional(tf.keras.layers.LSTM(rnn_units)),\n",
    "        Dense(rnn_units, activation='relu'),\n",
    "        Dropout(dropout),\n",
    "        Dense(1, activation='sigmoid')\n",
    "      ])\n",
    "    return model"
   ]
  },
  {
   "cell_type": "code",
   "execution_count": 17,
   "metadata": {
    "ExecuteTime": {
     "end_time": "2020-09-07T08:19:39.828777Z",
     "start_time": "2020-09-07T08:17:46.120101Z"
    }
   },
   "outputs": [
    {
     "name": "stdout",
     "output_type": "stream",
     "text": [
      "Model: \"sequential_4\"\n",
      "_________________________________________________________________\n",
      "Layer (type)                 Output Shape              Param #   \n",
      "=================================================================\n",
      "embedding_4 (Embedding)      (100, None, 64)           529024    \n",
      "_________________________________________________________________\n",
      "bidirectional_8 (Bidirection (100, None, 128)          66048     \n",
      "_________________________________________________________________\n",
      "bidirectional_9 (Bidirection (100, 128)                98816     \n",
      "_________________________________________________________________\n",
      "dense_6 (Dense)              (100, 64)                 8256      \n",
      "_________________________________________________________________\n",
      "dropout_6 (Dropout)          (100, 64)                 0         \n",
      "_________________________________________________________________\n",
      "dense_7 (Dense)              (100, 1)                  65        \n",
      "=================================================================\n",
      "Total params: 702,209\n",
      "Trainable params: 702,209\n",
      "Non-trainable params: 0\n",
      "_________________________________________________________________\n"
     ]
    }
   ],
   "source": [
    "bilstm = build_model_bilstm(vocab_size = vocab_size,\n",
    "        embedding_dim=embedding_dim,\n",
    "        rnn_units=rnn_units,  batch_size=BATCH_SIZE,\n",
    "        dropout=dropout)\n",
    "bilstm.compile(loss='binary_crossentropy',\n",
    "             optimizer='adam',\n",
    "             metrics=['accuracy', 'Precision', 'Recall'])\n",
    "\n",
    "bilstm.summary()"
   ]
  },
  {
   "cell_type": "code",
   "execution_count": 18,
   "metadata": {},
   "outputs": [
    {
     "name": "stdout",
     "output_type": "stream",
     "text": [
      "Epoch 1/15\n",
      "20/20 [==============================] - 6s 282ms/step - loss: 0.6936 - accuracy: 0.4940 - precision: 0.4865 - recall: 0.2170\n",
      "Epoch 2/15\n",
      "20/20 [==============================] - 5s 265ms/step - loss: 0.6665 - accuracy: 0.6105 - precision: 0.5737 - recall: 0.8600\n",
      "Epoch 3/15\n",
      "20/20 [==============================] - 6s 292ms/step - loss: 0.3626 - accuracy: 0.8550 - precision: 0.8637 - recall: 0.8430\n",
      "Epoch 4/15\n",
      "20/20 [==============================] - 6s 287ms/step - loss: 0.0884 - accuracy: 0.9745 - precision: 0.9750 - recall: 0.9740\n",
      "Epoch 5/15\n",
      "20/20 [==============================] - 5s 262ms/step - loss: 0.0197 - accuracy: 0.9945 - precision: 0.9940 - recall: 0.9950\n",
      "Epoch 6/15\n",
      "20/20 [==============================] - 5s 249ms/step - loss: 0.0118 - accuracy: 0.9975 - precision: 0.9980 - recall: 0.9970\n",
      "Epoch 7/15\n",
      "20/20 [==============================] - 5s 249ms/step - loss: 0.0040 - accuracy: 0.9995 - precision: 0.9990 - recall: 1.0000\n",
      "Epoch 8/15\n",
      "20/20 [==============================] - 5s 255ms/step - loss: 0.0011 - accuracy: 1.0000 - precision: 1.0000 - recall: 1.0000\n",
      "Epoch 9/15\n",
      "20/20 [==============================] - 5s 248ms/step - loss: 6.5024e-04 - accuracy: 1.0000 - precision: 1.0000 - recall: 1.0000\n",
      "Epoch 10/15\n",
      "20/20 [==============================] - 5s 246ms/step - loss: 2.0584e-04 - accuracy: 1.0000 - precision: 1.0000 - recall: 1.0000\n",
      "Epoch 11/15\n",
      "20/20 [==============================] - 5s 248ms/step - loss: 1.7365e-04 - accuracy: 1.0000 - precision: 1.0000 - recall: 1.0000\n",
      "Epoch 12/15\n",
      "20/20 [==============================] - 5s 248ms/step - loss: 1.7787e-04 - accuracy: 1.0000 - precision: 1.0000 - recall: 1.0000\n",
      "Epoch 13/15\n",
      "20/20 [==============================] - 5s 248ms/step - loss: 1.2495e-04 - accuracy: 1.0000 - precision: 1.0000 - recall: 1.0000\n",
      "Epoch 14/15\n",
      "20/20 [==============================] - 5s 257ms/step - loss: 8.8887e-05 - accuracy: 1.0000 - precision: 1.0000 - recall: 1.0000\n",
      "Epoch 15/15\n",
      "20/20 [==============================] - 5s 248ms/step - loss: 8.6157e-05 - accuracy: 1.0000 - precision: 1.0000 - recall: 1.0000\n",
      "250/250 [==============================] - 33s 134ms/step - loss: 2.1440 - accuracy: 0.7591 - precision: 0.7455 - recall: 0.7866\n",
      "BASELINE TRAINED\n"
     ]
    }
   ],
   "source": [
    "encoded_train_batched = encoded_train.shuffle(num_recs, seed=42).\\\n",
    "                                    batch(BATCH_SIZE)\n",
    "bilstm.fit(encoded_train_batched, epochs=15)\n",
    "bilstm.evaluate(encoded_test.batch(BATCH_SIZE))\n",
    "print(\"BASELINE TRAINED\")"
   ]
  },
  {
   "cell_type": "markdown",
   "metadata": {},
   "source": [
    "# With Snorkel Labeled Data"
   ]
  },
  {
   "cell_type": "code",
   "execution_count": 8,
   "metadata": {
    "ExecuteTime": {
     "end_time": "2020-09-07T08:19:40.223991Z",
     "start_time": "2020-09-07T08:19:39.831552Z"
    }
   },
   "outputs": [
    {
     "name": "stdout",
     "output_type": "stream",
     "text": [
      "showing hist of additional data\n"
     ]
    },
    {
     "data": {
      "text/plain": [
       "<matplotlib.axes._subplots.AxesSubplot at 0x7fa74e042c90>"
      ]
     },
     "execution_count": 8,
     "metadata": {},
     "output_type": "execute_result"
    },
    {
     "data": {
      "image/png": "[encoded data removed]",
      "text/plain": [
       "<Figure size 432x288 with 1 Axes>"
      ]
     },
     "metadata": {
      "needs_background": "light"
     },
     "output_type": "display_data"
    }
   ],
   "source": [
    "# labelled version of training data split\n",
    "p1 = pd.read_pickle(\"snorkel_train_labeled.df\")\n",
    "\n",
    "p2 = pd.read_pickle(\"snorkel-unsup-nbs-v2.df\")\n",
    "p2 = p2.drop(columns=['snorkel']) # so that everything aligns\n",
    "\n",
    "# now concatenate the three DFs\n",
    "p2 = pd.concat([train_small, p1, p2]) # training plus snorkel labelled data\n",
    "print(\"showing hist of additional data\")\n",
    "\n",
    "# now balance the labels\n",
    "pos = p2[p2.sentiment == 1]\n",
    "neg = p2[p2.sentiment == 0]\n",
    "recs = min(pos.shape[0], neg.shape[0])\n",
    "pos = pos.sample(n=recs, random_state=42)\n",
    "neg = neg.sample(n=recs, random_state=42)\n",
    "\n",
    "p3 = pd.concat((pos,neg))\n",
    "p3.sentiment.hist()"
   ]
  },
  {
   "cell_type": "code",
   "execution_count": 9,
   "metadata": {
    "ExecuteTime": {
     "end_time": "2020-09-07T19:54:32.125244Z",
     "start_time": "2020-09-07T19:54:32.105741Z"
    }
   },
   "outputs": [
    {
     "name": "stdout",
     "output_type": "stream",
     "text": [
      "<class 'pandas.core.frame.DataFrame'>\n",
      "Int64Index: 33906 entries, 41621 to 5399\n",
      "Data columns (total 3 columns):\n",
      "filename     33906 non-null object\n",
      "review       33906 non-null object\n",
      "sentiment    33906 non-null int64\n",
      "dtypes: int64(1), object(2)\n",
      "memory usage: 1.0+ MB\n"
     ]
    }
   ],
   "source": [
    "p3.info()"
   ]
  },
  {
   "cell_type": "code",
   "execution_count": 10,
   "metadata": {
    "ExecuteTime": {
     "end_time": "2020-09-07T08:19:47.190302Z",
     "start_time": "2020-09-07T08:19:40.225385Z"
    }
   },
   "outputs": [],
   "source": [
    "# remove markup\n",
    "cleaned_unsup_reviews = p3.review.apply(lambda x: BeautifulSoup(x).text)\n",
    "snorkel_reviews = pd.concat((cleaned_reviews, cleaned_unsup_reviews))\n",
    "snorkel_labels = pd.concat((train_small.sentiment, p3.sentiment))\n",
    "\n",
    "# convert pandas DF in to tf.Dataset\n",
    "snorkel_train = tf.data.Dataset.from_tensor_slices((snorkel_reviews.values,\n",
    "                                            snorkel_labels.values))\n",
    "encoded_snorkel_train = snorkel_train.map(encode_tf_fn,\n",
    "                            num_parallel_calls=tf.data.experimental.AUTOTUNE)"
   ]
  },
  {
   "cell_type": "code",
   "execution_count": 19,
   "metadata": {
    "ExecuteTime": {
     "end_time": "2020-09-07T08:47:50.531000Z",
     "start_time": "2020-09-07T08:19:47.192001Z"
    }
   },
   "outputs": [
    {
     "name": "stdout",
     "output_type": "stream",
     "text": [
      "Model: \"sequential_5\"\n",
      "_________________________________________________________________\n",
      "Layer (type)                 Output Shape              Param #   \n",
      "=================================================================\n",
      "embedding_5 (Embedding)      (100, None, 64)           529024    \n",
      "_________________________________________________________________\n",
      "bidirectional_10 (Bidirectio (100, None, 128)          66048     \n",
      "_________________________________________________________________\n",
      "bidirectional_11 (Bidirectio (100, 128)                98816     \n",
      "_________________________________________________________________\n",
      "dense_8 (Dense)              (100, 64)                 8256      \n",
      "_________________________________________________________________\n",
      "dropout_7 (Dropout)          (100, 64)                 0         \n",
      "_________________________________________________________________\n",
      "dense_9 (Dense)              (100, 1)                  65        \n",
      "=================================================================\n",
      "Total params: 702,209\n",
      "Trainable params: 702,209\n",
      "Non-trainable params: 0\n",
      "_________________________________________________________________\n",
      "Epoch 1/20\n",
      "359/359 [==============================] - 91s 254ms/step - loss: 0.4512 - accuracy: 0.7802 - precision: 0.7779 - recall: 0.7845\n",
      "Epoch 2/20\n",
      "359/359 [==============================] - 93s 260ms/step - loss: 0.2930 - accuracy: 0.8843 - precision: 0.8747 - recall: 0.8972\n",
      "Epoch 3/20\n",
      "359/359 [==============================] - 91s 253ms/step - loss: 0.2154 - accuracy: 0.9181 - precision: 0.9125 - recall: 0.9248\n",
      "Epoch 4/20\n",
      "359/359 [==============================] - 99s 276ms/step - loss: 0.1414 - accuracy: 0.9514 - precision: 0.9480 - recall: 0.9552\n",
      "Epoch 5/20\n",
      "359/359 [==============================] - 98s 272ms/step - loss: 0.0892 - accuracy: 0.9690 - precision: 0.9678 - recall: 0.9704\n",
      "Epoch 6/20\n",
      "359/359 [==============================] - 102s 283ms/step - loss: 0.0575 - accuracy: 0.9808 - precision: 0.9800 - recall: 0.9816\n",
      "Epoch 7/20\n",
      "359/359 [==============================] - 94s 262ms/step - loss: 0.0400 - accuracy: 0.9860 - precision: 0.9859 - recall: 0.9860\n",
      "Epoch 8/20\n",
      "359/359 [==============================] - 95s 265ms/step - loss: 0.0303 - accuracy: 0.9903 - precision: 0.9903 - recall: 0.9903\n",
      "Epoch 9/20\n",
      "359/359 [==============================] - 94s 261ms/step - loss: 0.0269 - accuracy: 0.9914 - precision: 0.9913 - recall: 0.9915\n",
      "Epoch 10/20\n",
      "359/359 [==============================] - 91s 252ms/step - loss: 0.0238 - accuracy: 0.9918 - precision: 0.9916 - recall: 0.9921\n",
      "Epoch 11/20\n",
      "359/359 [==============================] - 93s 260ms/step - loss: 0.0237 - accuracy: 0.9920 - precision: 0.9920 - recall: 0.9920\n",
      "Epoch 12/20\n",
      "359/359 [==============================] - 97s 269ms/step - loss: 0.0195 - accuracy: 0.9932 - precision: 0.9931 - recall: 0.9933\n",
      "Epoch 13/20\n",
      "359/359 [==============================] - 95s 265ms/step - loss: 0.0123 - accuracy: 0.9957 - precision: 0.9960 - recall: 0.9954\n",
      "Epoch 14/20\n",
      "359/359 [==============================] - 95s 264ms/step - loss: 0.0172 - accuracy: 0.9940 - precision: 0.9943 - recall: 0.9938\n",
      "Epoch 15/20\n",
      "359/359 [==============================] - 92s 255ms/step - loss: 0.0168 - accuracy: 0.9948 - precision: 0.9949 - recall: 0.9947\n",
      "Epoch 16/20\n",
      "359/359 [==============================] - 92s 256ms/step - loss: 0.0130 - accuracy: 0.9958 - precision: 0.9958 - recall: 0.9958\n",
      "Epoch 17/20\n",
      "359/359 [==============================] - 91s 254ms/step - loss: 0.0115 - accuracy: 0.9966 - precision: 0.9966 - recall: 0.9966\n",
      "Epoch 18/20\n",
      "359/359 [==============================] - 94s 262ms/step - loss: 0.0104 - accuracy: 0.9968 - precision: 0.9966 - recall: 0.9969\n",
      "Epoch 19/20\n",
      "359/359 [==============================] - 90s 251ms/step - loss: 0.0093 - accuracy: 0.9973 - precision: 0.9973 - recall: 0.9973\n",
      "Epoch 20/20\n",
      "359/359 [==============================] - 90s 250ms/step - loss: 0.0131 - accuracy: 0.9956 - precision: 0.9955 - recall: 0.9957\n",
      "Checking on Test Set:\n",
      "250/250 [==============================] - 35s 139ms/step - loss: 1.9134 - accuracy: 0.7658 - precision: 0.7812 - recall: 0.7386\n"
     ]
    },
    {
     "data": {
      "text/plain": [
       "[1.9134347438812256, 0.7658399939537048, 0.781181275844574, 0.7385600209236145]"
      ]
     },
     "execution_count": 19,
     "metadata": {},
     "output_type": "execute_result"
    }
   ],
   "source": [
    "# Length of the vocabulary\n",
    "vocab_size = imdb_encoder.vocab_size\n",
    "\n",
    "# Number of RNN units\n",
    "rnn_units = 64\n",
    "\n",
    "# Embedding size\n",
    "embedding_dim = 64\n",
    "\n",
    "#batch size\n",
    "BATCH_SIZE = 100\n",
    "\n",
    "dropout = 0.5\n",
    "bilstm2 = build_model_bilstm(\n",
    "  vocab_size = vocab_size,\n",
    "  embedding_dim=embedding_dim,\n",
    "  rnn_units=rnn_units,\n",
    "  batch_size=BATCH_SIZE,\n",
    "  dropout=dropout)\n",
    "\n",
    "bilstm2.summary()\n",
    "\n",
    "bilstm2.compile(loss='binary_crossentropy',\n",
    "             optimizer='adam',\n",
    "             metrics=['accuracy', 'Precision', 'Recall'])\n",
    "\n",
    "shuffle_size = snorkel_reviews.shape[0] // BATCH_SIZE * BATCH_SIZE\n",
    "encoded_snorkel_batched = encoded_snorkel_train.shuffle(buffer_size=shuffle_size,\n",
    "                                        seed=42).batch(BATCH_SIZE,\n",
    "                                        drop_remainder=True)\n",
    "\n",
    "bilstm2.fit(encoded_snorkel_batched, epochs=20)\n",
    "\n",
    "print(\"Checking on Test Set:\")\n",
    "bilstm2.evaluate(encoded_test.batch(BATCH_SIZE))"
   ]
  },
  {
   "cell_type": "markdown",
   "metadata": {},
   "source": []
  },
  {
   "cell_type": "code",
   "execution_count": null,
   "metadata": {},
   "outputs": [],
   "source": []
  }
 ],
 "metadata": {
  "kernelspec": {
   "display_name": "Python 3",
   "language": "python",
   "name": "python3"
  },
  "language_info": {
   "codemirror_mode": {
    "name": "ipython",
    "version": 3
   },
   "file_extension": ".py",
   "mimetype": "text/x-python",
   "name": "python",
   "nbconvert_exporter": "python",
   "pygments_lexer": "ipython3",
   "version": "3.7.7"
  },
  "toc": {
   "base_numbering": 1,
   "nav_menu": {},
   "number_sections": true,
   "sideBar": true,
   "skip_h1_title": false,
   "title_cell": "Table of Contents",
   "title_sidebar": "Contents",
   "toc_cell": false,
   "toc_position": {},
   "toc_section_display": true,
   "toc_window_display": true
  },
  "varInspector": {
   "cols": {
    "lenName": 16,
    "lenType": 16,
    "lenVar": 40
   },
   "kernels_config": {
    "python": {
     "delete_cmd_postfix": "",
     "delete_cmd_prefix": "del ",
     "library": "var_list.py",
     "varRefreshCmd": "print(var_dic_list())"
    },
    "r": {
     "delete_cmd_postfix": ") ",
     "delete_cmd_prefix": "rm(",
     "library": "var_list.r",
     "varRefreshCmd": "cat(var_dic_list()) "
    }
   },
   "types_to_exclude": [
    "module",
    "function",
    "builtin_function_or_method",
    "instance",
    "_Feature"
   ],
   "window_display": false
  }
 },
 "nbformat": 4,
 "nbformat_minor": 2
}
